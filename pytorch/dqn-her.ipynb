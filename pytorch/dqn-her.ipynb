{
 "cells": [
  {
   "cell_type": "markdown",
   "metadata": {},
   "source": [
    "## DQN Tutorial"
   ]
  },
  {
   "cell_type": "code",
   "execution_count": 1,
   "metadata": {},
   "outputs": [],
   "source": [
    "%matplotlib inline"
   ]
  },
  {
   "cell_type": "code",
   "execution_count": 2,
   "metadata": {},
   "outputs": [],
   "source": [
    "import math\n",
    "import random\n",
    "import numpy as np\n",
    "import matplotlib\n",
    "import matplotlib.pyplot as plt"
   ]
  },
  {
   "cell_type": "code",
   "execution_count": 3,
   "metadata": {},
   "outputs": [],
   "source": [
    "from collections import namedtuple\n",
    "from itertools import count"
   ]
  },
  {
   "cell_type": "code",
   "execution_count": 4,
   "metadata": {},
   "outputs": [],
   "source": [
    "import torch\n",
    "import torch.nn as nn\n",
    "import torch.optim as optim\n",
    "import torch.nn.functional as F\n",
    "import torchvision.transforms as T"
   ]
  },
  {
   "cell_type": "code",
   "execution_count": 5,
   "metadata": {},
   "outputs": [],
   "source": [
    "# set up matplotlib\n",
    "is_ipython = 'inline' in matplotlib.get_backend()\n",
    "if is_ipython:\n",
    "    from IPython import display\n",
    "\n",
    "plt.ion()\n",
    "\n",
    "# if gpu is to be used\n",
    "device = torch.device(\"cuda\" if torch.cuda.is_available() else \"cpu\")"
   ]
  },
  {
   "cell_type": "markdown",
   "metadata": {},
   "source": [
    "## Bit flipping environment"
   ]
  },
  {
   "cell_type": "code",
   "execution_count": 6,
   "metadata": {},
   "outputs": [],
   "source": [
    "class BitFlipEnv():\n",
    "    \n",
    "    def __init__(self, n = 8):\n",
    "        self.n = n\n",
    "        self.init_state = torch.randint(2, size=(n,))\n",
    "        self.target_state = torch.randint(2, size=(n,))\n",
    "        while np.array_equal(self.init_state, self.target_state):\n",
    "            self.target_state = torch.randint(2, size=(n,))\n",
    "        self.curr_state = self.init_state.clone()\n",
    "        \n",
    "    def step(self, action):\n",
    "        self.curr_state[action] = 1 - self.curr_state[action]\n",
    "        if np.array_equal(self.curr_state, self.target_state):\n",
    "            return self.curr_state.clone(), 0\n",
    "        else:\n",
    "            return self.curr_state.clone(), -1\n",
    "        \n",
    "    def reset(self):\n",
    "        self.init_state = torch.randint(2, size=(self.n,))\n",
    "        self.target_state = torch.randint(2, size=(self.n,))\n",
    "        while np.array_equal(self.init_state, self.target_state):\n",
    "            self.target_state = torch.randint(2, size=(self.n,))\n",
    "        self.curr_state = self.init_state.clone()"
   ]
  },
  {
   "cell_type": "code",
   "execution_count": 7,
   "metadata": {},
   "outputs": [],
   "source": [
    "env = BitFlipEnv(n=10)"
   ]
  },
  {
   "cell_type": "code",
   "execution_count": 8,
   "metadata": {},
   "outputs": [
    {
     "name": "stdout",
     "output_type": "stream",
     "text": [
      "Initial state: tensor([ 0.,  0.,  0.,  0.,  0.,  0.,  0.,  1.,  0.,  1.])\n",
      "Target state: tensor([ 0.,  0.,  0.,  1.,  0.,  0.,  0.,  1.,  0.,  1.])\n",
      "State, reward after taking action 9: tensor([ 0.,  0.,  0.,  0.,  0.,  0.,  0.,  1.,  0.,  0.]) -1\n",
      "<class 'torch.Tensor'>\n"
     ]
    }
   ],
   "source": [
    "print('Initial state:', env.init_state)\n",
    "print('Target state:', env.target_state)\n",
    "curr_state, reward = env.step(9)\n",
    "print('State, reward after taking action 9:', curr_state, reward)\n",
    "print(type(curr_state))\n",
    "env.reset()"
   ]
  },
  {
   "cell_type": "markdown",
   "metadata": {},
   "source": [
    "## Replay Memory"
   ]
  },
  {
   "cell_type": "code",
   "execution_count": 9,
   "metadata": {},
   "outputs": [],
   "source": [
    "Transition = namedtuple('Transition', \n",
    "                       ('state', 'action', 'next_state', 'reward', 'goal'))\n",
    "\n",
    "class ReplayMemory(object):\n",
    "    \n",
    "    def __init__(self, capacity = 1e5):\n",
    "        self.capacity = capacity\n",
    "        self.memory = []\n",
    "    \n",
    "    def push(self, *args):\n",
    "        \"\"\"Saves a transition which should contain:\n",
    "        - current state\n",
    "        - action taken\n",
    "        - next state\n",
    "        - reward obtained\n",
    "        - goal state\"\"\"\n",
    "        self.memory.append(Transition(*args))\n",
    "        if len(self.memory) > self.capacity:\n",
    "            print('!!!!!memory capacity exceeded!')\n",
    "            del self.memory[0]\n",
    "\n",
    "    def sample(self, batch_size):\n",
    "        \"\"\"\n",
    "        Returns batch_size number of samples from the replay memory\n",
    "        \"\"\"\n",
    "        return random.sample(self.memory, batch_size)\n",
    "    \n",
    "    def __len__(self):\n",
    "        return len(self.memory)"
   ]
  },
  {
   "cell_type": "code",
   "execution_count": 10,
   "metadata": {},
   "outputs": [],
   "source": [
    "# replay = ReplayMemory(2)\n",
    "# print(replay.capacity)\n",
    "# replay.push(curr_state, 9, curr_state, 0, curr_state)\n",
    "# print(len(replay))\n",
    "# print(replay.memory)\n",
    "# curr_state, reward = env.step(9)\n",
    "# replay.push(curr_state, 9, curr_state, 1, curr_state)\n",
    "# print(len(replay))\n",
    "# print(replay.memory)\n",
    "# curr_state, reward = env.step(1)\n",
    "# replay.push(curr_state, 1, curr_state, 2, curr_state)\n",
    "# print(len(replay))\n",
    "# print(replay.memory)\n",
    "\n",
    "# batch = Transition(*zip(*replay.sample(2)))\n",
    "# print(batch.reward)\n",
    "# batch_e = torch.cat(batch.reward)\n",
    "# batch_e"
   ]
  },
  {
   "cell_type": "markdown",
   "metadata": {},
   "source": [
    "## Q-Network in pytorch"
   ]
  },
  {
   "cell_type": "code",
   "execution_count": 11,
   "metadata": {},
   "outputs": [],
   "source": [
    "class DQN(nn.Module):\n",
    "    \n",
    "    def __init__(self):\n",
    "        super(DQN, self).__init__()\n",
    "        self.conv1 = nn.Conv2d(3, 16, kernel_size=5, stride=2)\n",
    "        self.bn1 = nn.BatchNorm2d(16)\n",
    "        self.conv2 = nn.Conv2d(16, 32, kernel_size=5, stride=2)\n",
    "        self.bn2 = nn.BatchNorm2d(32)\n",
    "        self.conv3 = nn.Conv2d(32, 32, kernel_size=5, stride=2)\n",
    "        self.bn3 = nn.BatchNorm2d(32)\n",
    "        self.head = nn.Linear(448, 2)\n",
    "        \n",
    "    def forward(self, x):\n",
    "        x = F.relu(self.bn1(self.conv1(x)))\n",
    "        x = F.relu(self.bn2(self.conv2(x)))\n",
    "        x = F.relu(self.bn3(self.conv3(x)))\n",
    "        return self.head(x.view(x.size(0), -1))"
   ]
  },
  {
   "cell_type": "markdown",
   "metadata": {},
   "source": [
    "## Feedforward network"
   ]
  },
  {
   "cell_type": "code",
   "execution_count": 12,
   "metadata": {},
   "outputs": [],
   "source": [
    "NUM_BITS = 7\n",
    "HIDDEN_SIZE = 256 "
   ]
  },
  {
   "cell_type": "code",
   "execution_count": 13,
   "metadata": {},
   "outputs": [],
   "source": [
    "class FNN(nn.Module):\n",
    "    \n",
    "    def __init__(self):\n",
    "        super(FNN, self).__init__()\n",
    "        self.ln1 = nn.Linear(NUM_BITS*2, HIDDEN_SIZE)\n",
    "        self.ln2 = nn.Linear(HIDDEN_SIZE, NUM_BITS)\n",
    "        \n",
    "    def forward(self, x):\n",
    "        x = F.relu(self.ln1(x))\n",
    "        x = self.ln2(x)\n",
    "        return x\n",
    "    "
   ]
  },
  {
   "cell_type": "markdown",
   "metadata": {},
   "source": [
    "## Hyper parameters"
   ]
  },
  {
   "cell_type": "code",
   "execution_count": 14,
   "metadata": {},
   "outputs": [],
   "source": [
    "BATCH_SIZE = 128\n",
    "GAMMA = 0.999\n",
    "EPS_START = 0.95\n",
    "EPS_END = 0.05\n",
    "\n",
    "TARGET_UPDATE = 10\n",
    "MODEL_PATH = '_her_policy_net.pt'\n",
    "WEIGHTS_PATH = '_her_policy_net_weights.pt'\n",
    "SAVE_MODEL = True\n",
    "steps_done = 0"
   ]
  },
  {
   "cell_type": "markdown",
   "metadata": {},
   "source": [
    "## Initialize Model"
   ]
  },
  {
   "cell_type": "code",
   "execution_count": 15,
   "metadata": {},
   "outputs": [],
   "source": [
    "policy_net = FNN().to(device)\n",
    "target_net = FNN().to(device)\n",
    "target_net.load_state_dict(policy_net.state_dict())\n",
    "target_net.eval()\n",
    "\n",
    "optimizer = optim.RMSprop(policy_net.parameters())\n",
    "memory = ReplayMemory(1e6)"
   ]
  },
  {
   "cell_type": "markdown",
   "metadata": {},
   "source": [
    "## Helper functions"
   ]
  },
  {
   "cell_type": "code",
   "execution_count": 16,
   "metadata": {},
   "outputs": [],
   "source": [
    "def select_action(state, goal, greedy=False):\n",
    "    global steps_done\n",
    "    sample = random.random()\n",
    "    state_goal = torch.cat((state, goal))\n",
    "#     print(state)\n",
    "#     print(goal)\n",
    "#     print(state_goal)\n",
    "    eps_threshold = EPS_END + (EPS_START - EPS_END) * \\\n",
    "        math.exp(-1. * steps_done / EPS_DECAY)\n",
    "    steps_done += 1\n",
    "    if steps_done % 5000 == 0:\n",
    "        print('Steps done: {} Epsilon threshold: {}'.format(steps_done, eps_threshold))\n",
    "    if greedy:\n",
    "        with torch.no_grad():\n",
    "            return policy_net(state_goal).argmax().view(1,1)\n",
    "    if sample > eps_threshold:\n",
    "        with torch.no_grad():\n",
    "            return policy_net(state_goal).argmax().view(1,1)\n",
    "    else: \n",
    "        return torch.tensor([[random.randrange(NUM_BITS)]], device=device, dtype=torch.long)"
   ]
  },
  {
   "cell_type": "code",
   "execution_count": 18,
   "metadata": {},
   "outputs": [],
   "source": [
    "def optimize_model():\n",
    "    if len(memory) < BATCH_SIZE:\n",
    "        return\n",
    "    transitions = memory.sample(BATCH_SIZE)\n",
    "#     print(transitions)\n",
    "    batch = Transition(*zip(*transitions))\n",
    "#     print(batch)\n",
    "    non_final_mask = torch.tensor(tuple(map(lambda s: s is not None, \n",
    "                                           batch.next_state)), device=device, dtype=torch.uint8)\n",
    "    non_final_next_states = torch.stack([s for s in batch.next_state \n",
    "                                      if s is not None])\n",
    "    \n",
    "    \n",
    "    state_batch = torch.stack(batch.state)\n",
    "    action_batch = torch.cat(batch.action)\n",
    "    reward_batch = torch.cat(batch.reward)\n",
    "    goal_batch = torch.stack(batch.goal)\n",
    "    state_goal_batch = torch.cat((state_batch, goal_batch), 1)\n",
    "    non_final_next_states_goal = torch.cat((non_final_next_states, goal_batch), 1)\n",
    "    \n",
    "    state_action_values = policy_net(state_goal_batch).gather(1, action_batch)\n",
    "    \n",
    "    next_state_values = torch.zeros(BATCH_SIZE, device=device)\n",
    "    next_state_values[non_final_mask] = target_net(non_final_next_states_goal).max(1)[0].detach()\n",
    "    \n",
    "    expected_state_action_values = (next_state_values * GAMMA) + reward_batch.float()\n",
    "    \n",
    "    loss = F.smooth_l1_loss(state_action_values, expected_state_action_values.unsqueeze(1))\n",
    "    \n",
    "    optimizer.zero_grad()\n",
    "    loss.backward()\n",
    "    for param in policy_net.parameters():\n",
    "        param.grad.data.clamp_(-1, 1)\n",
    "    optimizer.step()"
   ]
  },
  {
   "cell_type": "code",
   "execution_count": 19,
   "metadata": {},
   "outputs": [],
   "source": [
    "HindsightTransition = namedtuple('HindsightTransition', \n",
    "                       ('state', 'action', 'next_state', 'reward'))"
   ]
  },
  {
   "cell_type": "code",
   "execution_count": 20,
   "metadata": {},
   "outputs": [],
   "source": [
    "CHECK_RATE = 500"
   ]
  },
  {
   "cell_type": "code",
   "execution_count": 21,
   "metadata": {},
   "outputs": [
    {
     "name": "stdout",
     "output_type": "stream",
     "text": [
      "success rate for last 500 episodes after 0 episodes of training: 0.0%\n",
      "success rate for last 500 episodes after 500 episodes of training: 7.199999999999999%\n",
      "Steps done: 5000 Epsilon threshold: 0.830212401239605\n",
      "success rate for last 500 episodes after 1000 episodes of training: 14.799999999999999%\n",
      "success rate for last 500 episodes after 1500 episodes of training: 19.6%\n",
      "Steps done: 10000 Epsilon threshold: 0.7263488877456348\n",
      "success rate for last 500 episodes after 2000 episodes of training: 26.8%\n",
      "Steps done: 15000 Epsilon threshold: 0.6363119033073072\n",
      "success rate for last 500 episodes after 2500 episodes of training: 31.4%\n",
      "success rate for last 500 episodes after 3000 episodes of training: 37.8%\n",
      "Steps done: 20000 Epsilon threshold: 0.5582608313375701\n",
      "success rate for last 500 episodes after 3500 episodes of training: 43.0%\n",
      "success rate for last 500 episodes after 4000 episodes of training: 40.400000000000006%\n",
      "Steps done: 25000 Epsilon threshold: 0.490600081995194\n",
      "success rate for last 500 episodes after 4500 episodes of training: 46.6%\n",
      "Steps done: 30000 Epsilon threshold: 0.4319464737097516\n",
      "success rate for last 500 episodes after 5000 episodes of training: 51.2%\n",
      "success rate for last 500 episodes after 5500 episodes of training: 57.99999999999999%\n",
      "Steps done: 35000 Epsilon threshold: 0.38110095694649737\n",
      "success rate for last 500 episodes after 6000 episodes of training: 62.6%\n",
      "success rate for last 500 episodes after 6500 episodes of training: 66.60000000000001%\n",
      "Steps done: 40000 Epsilon threshold: 0.337024102163055\n",
      "success rate for last 500 episodes after 7000 episodes of training: 65.0%\n",
      "success rate for last 500 episodes after 7500 episodes of training: 63.4%\n",
      "Steps done: 45000 Epsilon threshold: 0.2988148508607907\n",
      "success rate for last 500 episodes after 8000 episodes of training: 67.2%\n",
      "success rate for last 500 episodes after 8500 episodes of training: 73.6%\n",
      "Steps done: 50000 Epsilon threshold: 0.2656920953408569\n",
      "success rate for last 500 episodes after 9000 episodes of training: 74.6%\n",
      "success rate for last 500 episodes after 9500 episodes of training: 67.60000000000001%\n",
      "Steps done: 55000 Epsilon threshold: 0.23697871060179798\n",
      "success rate for last 500 episodes after 10000 episodes of training: 73.2%\n",
      "success rate for last 500 episodes after 10500 episodes of training: 58.4%\n",
      "Steps done: 60000 Epsilon threshold: 0.21208771194448361\n",
      "success rate for last 500 episodes after 11000 episodes of training: 75.6%\n",
      "success rate for last 500 episodes after 11500 episodes of training: 80.0%\n",
      "Steps done: 65000 Epsilon threshold: 0.1905102553057464\n",
      "success rate for last 500 episodes after 12000 episodes of training: 70.6%\n",
      "success rate for last 500 episodes after 12500 episodes of training: 73.2%\n",
      "Steps done: 70000 Epsilon threshold: 0.17180523501280726\n",
      "success rate for last 500 episodes after 13000 episodes of training: 77.60000000000001%\n",
      "success rate for last 500 episodes after 13500 episodes of training: 81.6%\n",
      "Steps done: 75000 Epsilon threshold: 0.15559026630647965\n",
      "success rate for last 500 episodes after 14000 episodes of training: 67.60000000000001%\n",
      "success rate for last 500 episodes after 14500 episodes of training: 75.2%\n",
      "Steps done: 80000 Epsilon threshold: 0.14153386828982345\n",
      "success rate for last 500 episodes after 15000 episodes of training: 72.39999999999999%\n",
      "success rate for last 500 episodes after 15500 episodes of training: 75.4%\n",
      "Steps done: 85000 Epsilon threshold: 0.1293486874990919\n",
      "success rate for last 500 episodes after 16000 episodes of training: 71.8%\n",
      "success rate for last 500 episodes after 16500 episodes of training: 69.39999999999999%\n",
      "Steps done: 90000 Epsilon threshold: 0.11878562356714627\n",
      "success rate for last 500 episodes after 17000 episodes of training: 64.8%\n",
      "success rate for last 500 episodes after 17500 episodes of training: 75.8%\n",
      "success rate for last 500 episodes after 18000 episodes of training: 77.0%\n",
      "Steps done: 95000 Epsilon threshold: 0.10962873689089436\n",
      "success rate for last 500 episodes after 18500 episodes of training: 78.8%\n",
      "success rate for last 500 episodes after 19000 episodes of training: 69.0%\n",
      "Steps done: 100000 Epsilon threshold: 0.10169083420073469\n",
      "success rate for last 500 episodes after 19500 episodes of training: 52.6%\n"
     ]
    }
   ],
   "source": [
    "num_episodes = 15000\n",
    "EPS_DECAY = num_episodes * NUM_BITS * 0.25\n",
    "env = BitFlipEnv(NUM_BITS)\n",
    "success = 0\n",
    "episodes = []\n",
    "success_rate = []\n",
    "for i_episode in range(num_episodes):\n",
    "    env.reset()\n",
    "    state = env.init_state\n",
    "    goal = env.target_state\n",
    "    transitions = []\n",
    "    episode_success = False\n",
    "    for t in range(NUM_BITS):\n",
    "        if episode_success:\n",
    "            continue\n",
    "        action = select_action(state, goal)\n",
    "        next_state, reward = env.step(action.item())\n",
    "        reward = torch.tensor([reward], device=device)\n",
    "        \n",
    "        memory.push(state, action, next_state, reward, goal)\n",
    "        \n",
    "        transitions.append(HindsightTransition(state, action, next_state, reward))\n",
    "\n",
    "        state = next_state\n",
    "        \n",
    "        optimize_model()\n",
    "        if reward == 0:\n",
    "            if episode_success:\n",
    "                continue\n",
    "            else:\n",
    "                episode_success = True\n",
    "                success += 1\n",
    "    if not episode_success:\n",
    "        new_goal_state = state.clone()\n",
    "#         print('Hindsight experience')\n",
    "        if not np.array_equal(new_goal_state, goal):\n",
    "            for i in range(NUM_BITS):\n",
    "                if np.array_equal(transitions[i].next_state, new_goal_state):\n",
    "                    memory.push(transitions[i].state, transitions[i].action, transitions[i].next_state, torch.tensor([0]), new_goal_state)\n",
    "                    optimize_model()\n",
    "                    break\n",
    "\n",
    "                memory.push(transitions[i].state, transitions[i].action, transitions[i].next_state, transitions[i].reward, new_goal_state)\n",
    "                optimize_model()\n",
    "\n",
    "    if i_episode % TARGET_UPDATE == 0:\n",
    "        target_net.load_state_dict(policy_net.state_dict())\n",
    "#         print(i_episode, end=' ')\n",
    "    if i_episode % CHECK_RATE == 0:\n",
    "        print('success rate for last {} episodes after {} episodes of training: {}%'.format(CHECK_RATE, i_episode, success/CHECK_RATE * 100))\n",
    "        success_rate.append(success/CHECK_RATE)\n",
    "        episodes.append(i_episode)\n",
    "        success = 0\n",
    "\n",
    "# print('\\nTotal episodes succeeeded', success)\n",
    "## save weights\n",
    "             "
   ]
  },
  {
   "cell_type": "code",
   "execution_count": 22,
   "metadata": {},
   "outputs": [
    {
     "data": {
      "image/png": "[encoded data removed]",
      "text/plain": [
       "<Figure size 432x288 with 1 Axes>"
      ]
     },
     "metadata": {},
     "output_type": "display_data"
    }
   ],
   "source": [
    "plt.plot(episodes, success_rate)\n",
    "plt.show()"
   ]
  },
  {
   "cell_type": "code",
   "execution_count": 24,
   "metadata": {},
   "outputs": [
    {
     "name": "stdout",
     "output_type": "stream",
     "text": [
      "Weights saved\n",
      "Model saved\n",
      "Complete\n"
     ]
    },
    {
     "name": "stderr",
     "output_type": "stream",
     "text": [
      "/afs/inf.ed.ac.uk/user/s17/s1791387/miniconda3/envs/her/lib/python3.6/site-packages/torch/serialization.py:193: UserWarning: Couldn't retrieve source code for container of type FNN. It won't be checked for correctness upon loading.\n",
      "  \"type \" + obj.__name__ + \". It won't be checked \"\n"
     ]
    }
   ],
   "source": [
    "if SAVE_MODEL:\n",
    "    torch.save(policy_net.state_dict(), str(NUM_BITS)+WEIGHTS_PATH)\n",
    "    print('Weights saved')\n",
    "    torch.save(policy_net, str(NUM_BITS)+MODEL_PATH)\n",
    "    print('Model saved')\n",
    "\n",
    "print('Complete')  "
   ]
  },
  {
   "cell_type": "code",
   "execution_count": 23,
   "metadata": {},
   "outputs": [
    {
     "name": "stdout",
     "output_type": "stream",
     "text": [
      "Steps done: 105000 Epsilon threshold: 0.09480964178826774\n",
      "Steps done: 110000 Epsilon threshold: 0.08884448816197152\n",
      "Steps done: 115000 Epsilon threshold: 0.08367342831472066\n",
      "Steps done: 120000 Epsilon threshold: 0.07919075081485333\n",
      "Steps done: 125000 Epsilon threshold: 0.07530481675851096\n",
      "Steps done: 130000 Epsilon threshold: 0.07193618640518118\n",
      "Steps done: 135000 Epsilon threshold: 0.06901599519945195\n",
      "Steps done: 140000 Epsilon threshold: 0.06648454598016044\n",
      "Steps done: 145000 Epsilon threshold: 0.06429008859761678\n",
      "Steps done: 150000 Epsilon threshold: 0.06238776199074606\n",
      "6599\n"
     ]
    }
   ],
   "source": [
    "successes = 0\n",
    "for i in range(10000):\n",
    "    env.reset()\n",
    "    test_state = env.init_state\n",
    "    goal_state = env.target_state\n",
    "#     print('#############################################')\n",
    "#     print('start', test_state)\n",
    "#     print('goal', goal_state)\n",
    "    next_state = test_state.clone()\n",
    "    for i in range(NUM_BITS):\n",
    "        action = select_action(next_state, goal_state, greedy=True)\n",
    "        next_state, reward = env.step(action.item())\n",
    "#         print('taking action', action)\n",
    "#         print('next state', next_state)\n",
    "        if np.array_equal(next_state, goal_state):\n",
    "            successes += 1\n",
    "            break\n",
    "print(successes)"
   ]
  },
  {
   "cell_type": "code",
   "execution_count": null,
   "metadata": {},
   "outputs": [],
   "source": []
  }
 ],
 "metadata": {
  "kernelspec": {
   "display_name": "Python 3",
   "language": "python",
   "name": "python3"
  },
  "language_info": {
   "codemirror_mode": {
    "name": "ipython",
    "version": 3
   },
   "file_extension": ".py",
   "mimetype": "text/x-python",
   "name": "python",
   "nbconvert_exporter": "python",
   "pygments_lexer": "ipython3",
   "version": "3.6.5"
  }
 },
 "nbformat": 4,
 "nbformat_minor": 2
}
